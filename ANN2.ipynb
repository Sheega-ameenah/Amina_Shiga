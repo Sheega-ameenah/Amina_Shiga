{
  "nbformat": 4,
  "nbformat_minor": 0,
  "metadata": {
    "colab": {
      "provenance": [],
      "authorship_tag": "ABX9TyMUHcNOuDJcMwd50mIBMJRA",
      "include_colab_link": true
    },
    "kernelspec": {
      "name": "python3",
      "display_name": "Python 3"
    },
    "language_info": {
      "name": "python"
    }
  },
  "cells": [
    {
      "cell_type": "markdown",
      "metadata": {
        "id": "view-in-github",
        "colab_type": "text"
      },
      "source": [
        "<a href=\"https://colab.research.google.com/github/Sheega-ameenah/Amina_Shiga/blob/main/ANN2.ipynb\" target=\"_parent\"><img src=\"https://colab.research.google.com/assets/colab-badge.svg\" alt=\"Open In Colab\"/></a>"
      ]
    },
    {
      "cell_type": "markdown",
      "source": [
        "**Creating Neural network for Regression problem**"
      ],
      "metadata": {
        "id": "6UjLF0JQgsac"
      }
    },
    {
      "cell_type": "code",
      "execution_count": 1,
      "metadata": {
        "id": "7uT-PEg9gnho"
      },
      "outputs": [],
      "source": [
        "import numpy as np\n",
        "import pandas as pd\n",
        "%matplotlib inline\n",
        "import matplotlib as mpl\n",
        "import matplotlib.pyplot as plt"
      ]
    },
    {
      "cell_type": "code",
      "source": [
        "import tensorflow as tf\n",
        "from tensorflow import keras"
      ],
      "metadata": {
        "id": "ogrBTYnOh_uj"
      },
      "execution_count": 2,
      "outputs": []
    },
    {
      "cell_type": "code",
      "source": [
        "from sklearn.datasets import fetch_california_housing\n",
        "housing= fetch_california_housing()"
      ],
      "metadata": {
        "id": "Yfm1pvUIiMbK"
      },
      "execution_count": 3,
      "outputs": []
    },
    {
      "cell_type": "code",
      "source": [
        "housing.feature_names"
      ],
      "metadata": {
        "colab": {
          "base_uri": "https://localhost:8080/"
        },
        "id": "lh3Kv3bbit5p",
        "outputId": "0d3ef76b-6fcf-48e7-f5a9-edd4ca1a3e3e"
      },
      "execution_count": 4,
      "outputs": [
        {
          "output_type": "execute_result",
          "data": {
            "text/plain": [
              "['MedInc',\n",
              " 'HouseAge',\n",
              " 'AveRooms',\n",
              " 'AveBedrms',\n",
              " 'Population',\n",
              " 'AveOccup',\n",
              " 'Latitude',\n",
              " 'Longitude']"
            ]
          },
          "metadata": {},
          "execution_count": 4
        }
      ]
    },
    {
      "cell_type": "code",
      "source": [
        "from sklearn.model_selection import train_test_split\n",
        "X_train_full, X_test, y_train_full ,y_test = train_test_split(housing.data, housing.target,random_state=42)\n",
        "X_train,X_valid, y_train, y_valid = train_test_split(X_train_full, y_train_full, random_state=42)"
      ],
      "metadata": {
        "id": "laTY50EQjg3R"
      },
      "execution_count": 5,
      "outputs": []
    },
    {
      "cell_type": "code",
      "source": [
        "from sklearn.preprocessing import StandardScaler\n",
        "scaler= StandardScaler()\n",
        "X_train= scaler.fit_transform(X_train)\n",
        "X_valid= scaler.transform(X_valid)\n",
        "X_test= scaler.transform(X_test)\n"
      ],
      "metadata": {
        "id": "-k7OGaGTk84R"
      },
      "execution_count": 6,
      "outputs": []
    },
    {
      "cell_type": "code",
      "source": [
        "np.random.seed(42)\n",
        "tf.random.set_seed(42)"
      ],
      "metadata": {
        "id": "kFrjIJHymnZL"
      },
      "execution_count": 7,
      "outputs": []
    },
    {
      "cell_type": "code",
      "source": [
        "X_train.shape"
      ],
      "metadata": {
        "colab": {
          "base_uri": "https://localhost:8080/"
        },
        "id": "pc9VspORm5nH",
        "outputId": "c7a0c49c-d349-4cc1-d10f-da51b2de9431"
      },
      "execution_count": 8,
      "outputs": [
        {
          "output_type": "execute_result",
          "data": {
            "text/plain": [
              "(11610, 8)"
            ]
          },
          "metadata": {},
          "execution_count": 8
        }
      ]
    },
    {
      "cell_type": "code",
      "source": [
        "model= keras.models.Sequential([\n",
        "    keras.layers.Dense(30, activation='relu', input_shape=[8]),\n",
        "    keras.layers.Dense(30, activation='relu'),\n",
        "    keras.layers.Dense(1)\n",
        "])"
      ],
      "metadata": {
        "id": "Ofxi_lBom-if"
      },
      "execution_count": 9,
      "outputs": []
    },
    {
      "cell_type": "code",
      "source": [
        "model.summary()"
      ],
      "metadata": {
        "colab": {
          "base_uri": "https://localhost:8080/"
        },
        "id": "QD0nn3nYyrGs",
        "outputId": "0c906b8b-30c6-4c76-fe49-fadb6d1a7f28"
      },
      "execution_count": 10,
      "outputs": [
        {
          "output_type": "stream",
          "name": "stdout",
          "text": [
            "Model: \"sequential\"\n",
            "_________________________________________________________________\n",
            " Layer (type)                Output Shape              Param #   \n",
            "=================================================================\n",
            " dense (Dense)               (None, 30)                270       \n",
            "                                                                 \n",
            " dense_1 (Dense)             (None, 30)                930       \n",
            "                                                                 \n",
            " dense_2 (Dense)             (None, 1)                 31        \n",
            "                                                                 \n",
            "=================================================================\n",
            "Total params: 1231 (4.81 KB)\n",
            "Trainable params: 1231 (4.81 KB)\n",
            "Non-trainable params: 0 (0.00 Byte)\n",
            "_________________________________________________________________\n"
          ]
        }
      ]
    },
    {
      "cell_type": "code",
      "source": [
        "model.compile(loss='mean_squared_error',\n",
        "              optimizer= keras.optimizers.SGD(learning_rate=1e-3),\n",
        "              metrics= ['mae'])"
      ],
      "metadata": {
        "id": "24LpV0BazYox"
      },
      "execution_count": 11,
      "outputs": []
    },
    {
      "cell_type": "code",
      "source": [
        "model_history= model.fit(X_test,y_test, epochs=20, validation_data=(X_valid,y_valid))"
      ],
      "metadata": {
        "colab": {
          "base_uri": "https://localhost:8080/"
        },
        "id": "HGYG04yP0dIi",
        "outputId": "a452b5d9-ebeb-4d83-d13e-d27f186cc073"
      },
      "execution_count": 25,
      "outputs": [
        {
          "output_type": "stream",
          "name": "stdout",
          "text": [
            "Epoch 1/20\n",
            "162/162 [==============================] - 0s 3ms/step - loss: 0.4052 - mae: 0.4576 - val_loss: 0.3998 - val_mae: 0.4545\n",
            "Epoch 2/20\n",
            "162/162 [==============================] - 0s 3ms/step - loss: 0.4034 - mae: 0.4569 - val_loss: 0.3990 - val_mae: 0.4524\n",
            "Epoch 3/20\n",
            "162/162 [==============================] - 0s 3ms/step - loss: 0.4017 - mae: 0.4547 - val_loss: 0.4001 - val_mae: 0.4523\n",
            "Epoch 4/20\n",
            "162/162 [==============================] - 1s 4ms/step - loss: 0.4001 - mae: 0.4546 - val_loss: 0.4004 - val_mae: 0.4503\n",
            "Epoch 5/20\n",
            "162/162 [==============================] - 0s 3ms/step - loss: 0.3984 - mae: 0.4533 - val_loss: 0.4019 - val_mae: 0.4500\n",
            "Epoch 6/20\n",
            "162/162 [==============================] - 1s 4ms/step - loss: 0.3970 - mae: 0.4520 - val_loss: 0.4032 - val_mae: 0.4491\n",
            "Epoch 7/20\n",
            "162/162 [==============================] - 0s 3ms/step - loss: 0.3955 - mae: 0.4509 - val_loss: 0.4056 - val_mae: 0.4491\n",
            "Epoch 8/20\n",
            "162/162 [==============================] - 1s 4ms/step - loss: 0.3940 - mae: 0.4507 - val_loss: 0.4077 - val_mae: 0.4478\n",
            "Epoch 9/20\n",
            "162/162 [==============================] - 0s 3ms/step - loss: 0.3925 - mae: 0.4486 - val_loss: 0.4114 - val_mae: 0.4495\n",
            "Epoch 10/20\n",
            "162/162 [==============================] - 1s 4ms/step - loss: 0.3913 - mae: 0.4491 - val_loss: 0.4109 - val_mae: 0.4465\n",
            "Epoch 11/20\n",
            "162/162 [==============================] - 1s 4ms/step - loss: 0.3899 - mae: 0.4476 - val_loss: 0.4132 - val_mae: 0.4462\n",
            "Epoch 12/20\n",
            "162/162 [==============================] - 1s 4ms/step - loss: 0.3885 - mae: 0.4457 - val_loss: 0.4200 - val_mae: 0.4505\n",
            "Epoch 13/20\n",
            "162/162 [==============================] - 1s 4ms/step - loss: 0.3874 - mae: 0.4465 - val_loss: 0.4202 - val_mae: 0.4476\n",
            "Epoch 14/20\n",
            "162/162 [==============================] - 1s 4ms/step - loss: 0.3863 - mae: 0.4455 - val_loss: 0.4191 - val_mae: 0.4446\n",
            "Epoch 15/20\n",
            "162/162 [==============================] - 1s 4ms/step - loss: 0.3850 - mae: 0.4440 - val_loss: 0.4227 - val_mae: 0.4446\n",
            "Epoch 16/20\n",
            "162/162 [==============================] - 1s 5ms/step - loss: 0.3838 - mae: 0.4438 - val_loss: 0.4239 - val_mae: 0.4424\n",
            "Epoch 17/20\n",
            "162/162 [==============================] - 1s 4ms/step - loss: 0.3829 - mae: 0.4423 - val_loss: 0.4283 - val_mae: 0.4429\n",
            "Epoch 18/20\n",
            "162/162 [==============================] - 1s 4ms/step - loss: 0.3818 - mae: 0.4418 - val_loss: 0.4332 - val_mae: 0.4438\n",
            "Epoch 19/20\n",
            "162/162 [==============================] - 1s 4ms/step - loss: 0.3808 - mae: 0.4419 - val_loss: 0.4374 - val_mae: 0.4442\n",
            "Epoch 20/20\n",
            "162/162 [==============================] - 0s 3ms/step - loss: 0.3796 - mae: 0.4407 - val_loss: 0.4412 - val_mae: 0.4448\n"
          ]
        }
      ]
    },
    {
      "cell_type": "code",
      "source": [
        "model_history.history"
      ],
      "metadata": {
        "colab": {
          "base_uri": "https://localhost:8080/"
        },
        "id": "DjDmDJuW1R_R",
        "outputId": "7076471b-9b47-48df-c331-55fd7dc63980"
      },
      "execution_count": 26,
      "outputs": [
        {
          "output_type": "execute_result",
          "data": {
            "text/plain": [
              "{'loss': [0.405240923166275,\n",
              "  0.4033694267272949,\n",
              "  0.4016967713832855,\n",
              "  0.40008261799812317,\n",
              "  0.39836034178733826,\n",
              "  0.3969574570655823,\n",
              "  0.39545291662216187,\n",
              "  0.3939833343029022,\n",
              "  0.39252713322639465,\n",
              "  0.39128610491752625,\n",
              "  0.3898508846759796,\n",
              "  0.3885238468647003,\n",
              "  0.38736841082572937,\n",
              "  0.3863043487071991,\n",
              "  0.38497471809387207,\n",
              "  0.3838389217853546,\n",
              "  0.38290128111839294,\n",
              "  0.3818120062351227,\n",
              "  0.38078969717025757,\n",
              "  0.37959611415863037],\n",
              " 'mae': [0.45763668417930603,\n",
              "  0.4568539261817932,\n",
              "  0.4547256827354431,\n",
              "  0.45464715361595154,\n",
              "  0.4533452093601227,\n",
              "  0.45196104049682617,\n",
              "  0.4508982002735138,\n",
              "  0.4507407546043396,\n",
              "  0.4485902190208435,\n",
              "  0.4490813910961151,\n",
              "  0.44760051369667053,\n",
              "  0.44571182131767273,\n",
              "  0.44654834270477295,\n",
              "  0.4455200731754303,\n",
              "  0.4439690113067627,\n",
              "  0.4438043534755707,\n",
              "  0.4423203468322754,\n",
              "  0.44175130128860474,\n",
              "  0.44192391633987427,\n",
              "  0.44071096181869507],\n",
              " 'val_loss': [0.39976003766059875,\n",
              "  0.39902588725090027,\n",
              "  0.40011897683143616,\n",
              "  0.40036699175834656,\n",
              "  0.40193936228752136,\n",
              "  0.4032462537288666,\n",
              "  0.40557825565338135,\n",
              "  0.40768733620643616,\n",
              "  0.41138651967048645,\n",
              "  0.4109145402908325,\n",
              "  0.4131622016429901,\n",
              "  0.4199766218662262,\n",
              "  0.4202221930027008,\n",
              "  0.41906487941741943,\n",
              "  0.4226953983306885,\n",
              "  0.42387908697128296,\n",
              "  0.4283161163330078,\n",
              "  0.4331565797328949,\n",
              "  0.43738964200019836,\n",
              "  0.4411717653274536],\n",
              " 'val_mae': [0.4545334279537201,\n",
              "  0.45241817831993103,\n",
              "  0.45226988196372986,\n",
              "  0.45025137066841125,\n",
              "  0.4499582350254059,\n",
              "  0.44913560152053833,\n",
              "  0.44906261563301086,\n",
              "  0.4478180408477783,\n",
              "  0.4494653046131134,\n",
              "  0.4465269446372986,\n",
              "  0.44623705744743347,\n",
              "  0.45049792528152466,\n",
              "  0.44757211208343506,\n",
              "  0.4446043372154236,\n",
              "  0.4445919096469879,\n",
              "  0.4424149990081787,\n",
              "  0.44286873936653137,\n",
              "  0.4438489079475403,\n",
              "  0.4442426860332489,\n",
              "  0.4447576701641083]}"
            ]
          },
          "metadata": {},
          "execution_count": 26
        }
      ]
    },
    {
      "cell_type": "code",
      "source": [
        "mae_test= model.evaluate(X_test, y_test)"
      ],
      "metadata": {
        "colab": {
          "base_uri": "https://localhost:8080/"
        },
        "id": "MQ5Vdrtzp1TK",
        "outputId": "51c0075e-7a4c-4a12-d0b3-84387b07ab82"
      },
      "execution_count": 27,
      "outputs": [
        {
          "output_type": "stream",
          "name": "stdout",
          "text": [
            "162/162 [==============================] - 0s 2ms/step - loss: 0.3785 - mae: 0.4411\n"
          ]
        }
      ]
    },
    {
      "cell_type": "code",
      "source": [
        "pd.DataFrame(model_history.history).plot(figsize=(8,5))\n",
        "plt.grid(True)\n",
        "plt.gca().set_ylim(0,1)\n",
        "plt.show()"
      ],
      "metadata": {
        "colab": {
          "base_uri": "https://localhost:8080/",
          "height": 451
        },
        "id": "2Sqb_AGg1iWR",
        "outputId": "2a5e2189-23ca-456b-ba69-04703fb5dd5f"
      },
      "execution_count": 28,
      "outputs": [
        {
          "output_type": "display_data",
          "data": {
            "text/plain": [
              "<Figure size 800x500 with 1 Axes>"
            ],
            "image/png": "[encoded data removed]"
          },
          "metadata": {}
        }
      ]
    },
    {
      "cell_type": "code",
      "source": [
        "X_new= X_test[:3]"
      ],
      "metadata": {
        "id": "DQ9A4BLK39oJ"
      },
      "execution_count": 29,
      "outputs": []
    },
    {
      "cell_type": "code",
      "source": [
        "y_pred= model.predict(X_new)\n",
        "print(y_pred)\n",
        "print(y_test[:3])"
      ],
      "metadata": {
        "colab": {
          "base_uri": "https://localhost:8080/"
        },
        "id": "Qr7Vv7ExxDIV",
        "outputId": "dc1fed5c-1e9c-4d8e-8d15-5a661ab525d6"
      },
      "execution_count": 30,
      "outputs": [
        {
          "output_type": "stream",
          "name": "stdout",
          "text": [
            "1/1 [==============================] - 0s 23ms/step\n",
            "[[0.7062007]\n",
            " [1.7411419]\n",
            " [3.4106593]]\n",
            "[0.477   0.458   5.00001]\n"
          ]
        }
      ]
    },
    {
      "cell_type": "code",
      "source": [],
      "metadata": {
        "id": "II_DeO21xXg7"
      },
      "execution_count": null,
      "outputs": []
    }
  ]
}