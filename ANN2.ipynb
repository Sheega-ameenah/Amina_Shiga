{
  "nbformat": 4,
  "nbformat_minor": 0,
  "metadata": {
    "colab": {
      "provenance": [],
      "authorship_tag": "ABX9TyNWGFhLhBsoij3aeB1ckQon",
      "include_colab_link": true
    },
    "kernelspec": {
      "name": "python3",
      "display_name": "Python 3"
    },
    "language_info": {
      "name": "python"
    }
  },
  "cells": [
    {
      "cell_type": "markdown",
      "metadata": {
        "id": "view-in-github",
        "colab_type": "text"
      },
      "source": [
        "<a href=\"https://colab.research.google.com/github/Sheega-ameenah/Amina_Shiga/blob/main/ANN2.ipynb\" target=\"_parent\"><img src=\"https://colab.research.google.com/assets/colab-badge.svg\" alt=\"Open In Colab\"/></a>"
      ]
    },
    {
      "cell_type": "markdown",
      "source": [
        "**Creating Neural network for Regression problem**"
      ],
      "metadata": {
        "id": "6UjLF0JQgsac"
      }
    },
    {
      "cell_type": "code",
      "execution_count": 40,
      "metadata": {
        "id": "7uT-PEg9gnho"
      },
      "outputs": [],
      "source": [
        "import numpy as np\n",
        "import pandas as pd\n",
        "%matplotlib inline\n",
        "import matplotlib as mpl\n",
        "import matplotlib.pyplot as plt"
      ]
    },
    {
      "cell_type": "code",
      "source": [
        "import tensorflow as tf\n",
        "from tensorflow import keras"
      ],
      "metadata": {
        "id": "ogrBTYnOh_uj"
      },
      "execution_count": 41,
      "outputs": []
    },
    {
      "cell_type": "code",
      "source": [
        "from sklearn.datasets import fetch_california_housing\n",
        "housing= fetch_california_housing()"
      ],
      "metadata": {
        "id": "Yfm1pvUIiMbK"
      },
      "execution_count": 42,
      "outputs": []
    },
    {
      "cell_type": "code",
      "source": [
        "housing.feature_names"
      ],
      "metadata": {
        "colab": {
          "base_uri": "https://localhost:8080/"
        },
        "id": "lh3Kv3bbit5p",
        "outputId": "cf64ec93-753a-4035-e13a-46d0e055e7e5"
      },
      "execution_count": 43,
      "outputs": [
        {
          "output_type": "execute_result",
          "data": {
            "text/plain": [
              "['MedInc',\n",
              " 'HouseAge',\n",
              " 'AveRooms',\n",
              " 'AveBedrms',\n",
              " 'Population',\n",
              " 'AveOccup',\n",
              " 'Latitude',\n",
              " 'Longitude']"
            ]
          },
          "metadata": {},
          "execution_count": 43
        }
      ]
    },
    {
      "cell_type": "code",
      "source": [
        "from sklearn.model_selection import train_test_split\n",
        "X_train_full, X_test, y_train_full ,y_test = train_test_split(housing.data, housing.target,random_state=42)\n",
        "X_train,X_valid, y_train, y_valid = train_test_split(X_train_full, y_train_full, random_state=42)"
      ],
      "metadata": {
        "id": "laTY50EQjg3R"
      },
      "execution_count": 44,
      "outputs": []
    },
    {
      "cell_type": "code",
      "source": [
        "from sklearn.preprocessing import StandardScaler\n",
        "scaler= StandardScaler()\n",
        "X_train= scaler.fit_transform(X_train)\n",
        "X_valid= scaler.transform(X_valid)\n",
        "X_test= scaler.transform(X_test)\n"
      ],
      "metadata": {
        "id": "-k7OGaGTk84R"
      },
      "execution_count": 45,
      "outputs": []
    },
    {
      "cell_type": "code",
      "source": [
        "np.random.seed(42)\n",
        "tf.random.set_seed(42)"
      ],
      "metadata": {
        "id": "kFrjIJHymnZL"
      },
      "execution_count": 46,
      "outputs": []
    },
    {
      "cell_type": "code",
      "source": [
        "X_train.shape"
      ],
      "metadata": {
        "colab": {
          "base_uri": "https://localhost:8080/"
        },
        "id": "pc9VspORm5nH",
        "outputId": "621bcbe2-02b8-4327-ebeb-e6c925757544"
      },
      "execution_count": 47,
      "outputs": [
        {
          "output_type": "execute_result",
          "data": {
            "text/plain": [
              "(11610, 8)"
            ]
          },
          "metadata": {},
          "execution_count": 47
        }
      ]
    },
    {
      "cell_type": "code",
      "source": [
        "model= keras.models.Sequential([\n",
        "    keras.layers.Dense(30, activation='relu', input_shape=[8]),\n",
        "    keras.layers.Dense(30, activation='relu'),\n",
        "    keras.layers.Dense(1)\n",
        "])"
      ],
      "metadata": {
        "id": "Ofxi_lBom-if"
      },
      "execution_count": 48,
      "outputs": []
    },
    {
      "cell_type": "code",
      "source": [
        "model.summary()"
      ],
      "metadata": {
        "colab": {
          "base_uri": "https://localhost:8080/"
        },
        "id": "QD0nn3nYyrGs",
        "outputId": "17b01950-b9c2-43b8-b237-c14f490823e0"
      },
      "execution_count": 49,
      "outputs": [
        {
          "output_type": "stream",
          "name": "stdout",
          "text": [
            "Model: \"sequential\"\n",
            "_________________________________________________________________\n",
            " Layer (type)                Output Shape              Param #   \n",
            "=================================================================\n",
            " dense_8 (Dense)             (None, 30)                270       \n",
            "                                                                 \n",
            " dense_9 (Dense)             (None, 30)                930       \n",
            "                                                                 \n",
            " dense_10 (Dense)            (None, 1)                 31        \n",
            "                                                                 \n",
            "=================================================================\n",
            "Total params: 1231 (4.81 KB)\n",
            "Trainable params: 1231 (4.81 KB)\n",
            "Non-trainable params: 0 (0.00 Byte)\n",
            "_________________________________________________________________\n"
          ]
        }
      ]
    },
    {
      "cell_type": "code",
      "source": [
        "model.compile(loss='mean_squared_error',\n",
        "              optimizer= keras.optimizers.SGD(learning_rate=1e-3),\n",
        "              metrics= ['mae'])"
      ],
      "metadata": {
        "id": "24LpV0BazYox"
      },
      "execution_count": 50,
      "outputs": []
    },
    {
      "cell_type": "code",
      "source": [
        "model_history= model.fit(X_test,y_test, epochs=20, validation_data=(X_valid,y_valid))"
      ],
      "metadata": {
        "colab": {
          "base_uri": "https://localhost:8080/"
        },
        "id": "HGYG04yP0dIi",
        "outputId": "62a1d31e-c209-4792-f5e7-1f4b50fb6602"
      },
      "execution_count": 51,
      "outputs": [
        {
          "output_type": "stream",
          "name": "stdout",
          "text": [
            "Epoch 1/20\n",
            "162/162 [==============================] - 1s 5ms/step - loss: 3.1585 - mae: 1.3827 - val_loss: 9.0979 - val_mae: 1.0263\n",
            "Epoch 2/20\n",
            "162/162 [==============================] - 1s 4ms/step - loss: 1.4387 - mae: 0.8655 - val_loss: 7.6059 - val_mae: 0.8417\n",
            "Epoch 3/20\n",
            "162/162 [==============================] - 1s 4ms/step - loss: 0.9692 - mae: 0.7398 - val_loss: 5.1587 - val_mae: 0.7451\n",
            "Epoch 4/20\n",
            "162/162 [==============================] - 0s 3ms/step - loss: 0.8060 - mae: 0.6762 - val_loss: 3.3300 - val_mae: 0.6858\n",
            "Epoch 5/20\n",
            "162/162 [==============================] - 0s 3ms/step - loss: 0.7342 - mae: 0.6417 - val_loss: 2.0732 - val_mae: 0.6481\n",
            "Epoch 6/20\n",
            "162/162 [==============================] - 1s 4ms/step - loss: 0.6982 - mae: 0.6213 - val_loss: 1.4210 - val_mae: 0.6247\n",
            "Epoch 7/20\n",
            "162/162 [==============================] - 0s 3ms/step - loss: 0.6754 - mae: 0.6073 - val_loss: 1.0462 - val_mae: 0.6097\n",
            "Epoch 8/20\n",
            "162/162 [==============================] - 1s 4ms/step - loss: 0.6574 - mae: 0.5993 - val_loss: 0.8196 - val_mae: 0.5960\n",
            "Epoch 9/20\n",
            "162/162 [==============================] - 1s 4ms/step - loss: 0.6418 - mae: 0.5903 - val_loss: 0.6869 - val_mae: 0.5837\n",
            "Epoch 10/20\n",
            "162/162 [==============================] - 1s 4ms/step - loss: 0.6282 - mae: 0.5835 - val_loss: 0.6214 - val_mae: 0.5732\n",
            "Epoch 11/20\n",
            "162/162 [==============================] - 1s 5ms/step - loss: 0.6150 - mae: 0.5767 - val_loss: 0.5933 - val_mae: 0.5652\n",
            "Epoch 12/20\n",
            "162/162 [==============================] - 0s 3ms/step - loss: 0.6025 - mae: 0.5690 - val_loss: 0.5893 - val_mae: 0.5664\n",
            "Epoch 13/20\n",
            "162/162 [==============================] - 0s 3ms/step - loss: 0.5912 - mae: 0.5657 - val_loss: 0.5998 - val_mae: 0.5601\n",
            "Epoch 14/20\n",
            "162/162 [==============================] - 1s 4ms/step - loss: 0.5801 - mae: 0.5594 - val_loss: 0.6249 - val_mae: 0.5536\n",
            "Epoch 15/20\n",
            "162/162 [==============================] - 1s 4ms/step - loss: 0.5693 - mae: 0.5518 - val_loss: 0.6392 - val_mae: 0.5507\n",
            "Epoch 16/20\n",
            "162/162 [==============================] - 1s 4ms/step - loss: 0.5593 - mae: 0.5481 - val_loss: 0.6745 - val_mae: 0.5442\n",
            "Epoch 17/20\n",
            "162/162 [==============================] - 1s 4ms/step - loss: 0.5499 - mae: 0.5409 - val_loss: 0.7011 - val_mae: 0.5424\n",
            "Epoch 18/20\n",
            "162/162 [==============================] - 0s 3ms/step - loss: 0.5404 - mae: 0.5362 - val_loss: 0.7224 - val_mae: 0.5409\n",
            "Epoch 19/20\n",
            "162/162 [==============================] - 1s 4ms/step - loss: 0.5312 - mae: 0.5321 - val_loss: 0.7148 - val_mae: 0.5363\n",
            "Epoch 20/20\n",
            "162/162 [==============================] - 1s 4ms/step - loss: 0.5223 - mae: 0.5267 - val_loss: 0.6939 - val_mae: 0.5331\n"
          ]
        }
      ]
    },
    {
      "cell_type": "code",
      "source": [
        "model_history.history"
      ],
      "metadata": {
        "colab": {
          "base_uri": "https://localhost:8080/"
        },
        "id": "DjDmDJuW1R_R",
        "outputId": "b5054967-f7eb-4f58-85c0-759c11fe094f"
      },
      "execution_count": 52,
      "outputs": [
        {
          "output_type": "execute_result",
          "data": {
            "text/plain": [
              "{'loss': [3.1585092544555664,\n",
              "  1.4386922121047974,\n",
              "  0.9691766500473022,\n",
              "  0.805988073348999,\n",
              "  0.7342073917388916,\n",
              "  0.698209822177887,\n",
              "  0.6754329800605774,\n",
              "  0.6574462652206421,\n",
              "  0.6417680382728577,\n",
              "  0.6281777620315552,\n",
              "  0.6150134205818176,\n",
              "  0.6024608016014099,\n",
              "  0.5911863446235657,\n",
              "  0.5800749659538269,\n",
              "  0.5693419575691223,\n",
              "  0.5592616200447083,\n",
              "  0.5498892664909363,\n",
              "  0.5403672456741333,\n",
              "  0.531215250492096,\n",
              "  0.5222981572151184],\n",
              " 'mae': [1.3827420473098755,\n",
              "  0.8654869198799133,\n",
              "  0.7397502064704895,\n",
              "  0.6762366890907288,\n",
              "  0.6416662335395813,\n",
              "  0.6213262677192688,\n",
              "  0.607287585735321,\n",
              "  0.599269688129425,\n",
              "  0.5902826189994812,\n",
              "  0.5835242867469788,\n",
              "  0.5766733884811401,\n",
              "  0.5690244436264038,\n",
              "  0.5656571984291077,\n",
              "  0.5593792200088501,\n",
              "  0.551768958568573,\n",
              "  0.5480625629425049,\n",
              "  0.5409446358680725,\n",
              "  0.5362168550491333,\n",
              "  0.5321086049079895,\n",
              "  0.5266655087471008],\n",
              " 'val_loss': [9.09789752960205,\n",
              "  7.6059370040893555,\n",
              "  5.15873384475708,\n",
              "  3.3299660682678223,\n",
              "  2.0732455253601074,\n",
              "  1.4210374355316162,\n",
              "  1.0461517572402954,\n",
              "  0.8195726871490479,\n",
              "  0.6868553757667542,\n",
              "  0.6214187741279602,\n",
              "  0.5932703018188477,\n",
              "  0.5892945528030396,\n",
              "  0.5998237133026123,\n",
              "  0.624890923500061,\n",
              "  0.6392298936843872,\n",
              "  0.6745162606239319,\n",
              "  0.701065719127655,\n",
              "  0.7224109172821045,\n",
              "  0.7148167490959167,\n",
              "  0.6939317584037781],\n",
              " 'val_mae': [1.0263346433639526,\n",
              "  0.8416880965232849,\n",
              "  0.7451374530792236,\n",
              "  0.6858195662498474,\n",
              "  0.6480676531791687,\n",
              "  0.6246973872184753,\n",
              "  0.609653115272522,\n",
              "  0.5960332155227661,\n",
              "  0.5837016701698303,\n",
              "  0.5732344388961792,\n",
              "  0.5652171969413757,\n",
              "  0.5664202570915222,\n",
              "  0.5601291656494141,\n",
              "  0.5535855889320374,\n",
              "  0.5506824851036072,\n",
              "  0.5442398190498352,\n",
              "  0.5424453020095825,\n",
              "  0.5409232974052429,\n",
              "  0.5363249778747559,\n",
              "  0.5330809354782104]}"
            ]
          },
          "metadata": {},
          "execution_count": 52
        }
      ]
    },
    {
      "cell_type": "code",
      "source": [
        "mae_test= model.evaluate(X_test, y_test)"
      ],
      "metadata": {
        "colab": {
          "base_uri": "https://localhost:8080/"
        },
        "id": "MQ5Vdrtzp1TK",
        "outputId": "aa6e11ac-5692-4eea-c766-8febed0bd722"
      },
      "execution_count": 53,
      "outputs": [
        {
          "output_type": "stream",
          "name": "stdout",
          "text": [
            "162/162 [==============================] - 0s 2ms/step - loss: 0.5174 - mae: 0.5256\n"
          ]
        }
      ]
    },
    {
      "cell_type": "code",
      "source": [
        "pd.DataFrame(model_history.history).plot(figsize=(8,5))\n",
        "plt.grid(True)\n",
        "plt.gca().set_ylim(0,1)\n",
        "plt.show()"
      ],
      "metadata": {
        "colab": {
          "base_uri": "https://localhost:8080/",
          "height": 451
        },
        "id": "2Sqb_AGg1iWR",
        "outputId": "46c8cec0-1a2f-4fd4-c842-e2b056ab9cee"
      },
      "execution_count": 54,
      "outputs": [
        {
          "output_type": "display_data",
          "data": {
            "text/plain": [
              "<Figure size 800x500 with 1 Axes>"
            ],
            "image/png": "[encoded data removed]"
          },
          "metadata": {}
        }
      ]
    },
    {
      "cell_type": "code",
      "source": [
        "X_new= X_test[:3]"
      ],
      "metadata": {
        "id": "DQ9A4BLK39oJ"
      },
      "execution_count": 55,
      "outputs": []
    },
    {
      "cell_type": "code",
      "source": [
        "y_pred= model.predict(X_new)\n",
        "print(y_pred)\n",
        "print(y_test[:3])"
      ],
      "metadata": {
        "colab": {
          "base_uri": "https://localhost:8080/"
        },
        "id": "Qr7Vv7ExxDIV",
        "outputId": "b53c996d-7e20-410f-b134-3df30adb187f"
      },
      "execution_count": 56,
      "outputs": [
        {
          "output_type": "stream",
          "name": "stdout",
          "text": [
            "1/1 [==============================] - 0s 58ms/step\n",
            "[[1.0981588]\n",
            " [1.3824006]\n",
            " [2.911329 ]]\n",
            "[0.477   0.458   5.00001]\n"
          ]
        }
      ]
    },
    {
      "cell_type": "markdown",
      "source": [
        "**Using functional API for complex architectures**"
      ],
      "metadata": {
        "id": "UFYvaa5F2XFQ"
      }
    },
    {
      "cell_type": "code",
      "source": [
        "del model"
      ],
      "metadata": {
        "id": "II_DeO21xXg7"
      },
      "execution_count": 74,
      "outputs": []
    },
    {
      "cell_type": "code",
      "source": [
        "keras.backend.clear_session()"
      ],
      "metadata": {
        "id": "zrUIdoI72bhN"
      },
      "execution_count": 75,
      "outputs": []
    },
    {
      "cell_type": "code",
      "source": [
        "X_train.shape[:1]"
      ],
      "metadata": {
        "colab": {
          "base_uri": "https://localhost:8080/"
        },
        "id": "07VfH4AuAGDu",
        "outputId": "cca70dea-8614-40d7-a65e-6e2cd1469b8c"
      },
      "execution_count": 76,
      "outputs": [
        {
          "output_type": "execute_result",
          "data": {
            "text/plain": [
              "(11610,)"
            ]
          },
          "metadata": {},
          "execution_count": 76
        }
      ]
    },
    {
      "cell_type": "code",
      "source": [
        "input_= keras.layers.Input(shape=X_train.shape[1:])\n",
        "hidden1 = keras.layers.Dense(30, activation= 'relu')(input_)\n",
        "hidden2 = keras.layers.Dense(30, activation= 'relu')(hidden1)\n",
        "concat = keras.layers.concatenate([input_, hidden2])\n",
        "output = keras.layers.Dense(1)(concat)\n",
        "model= keras.models.Model(inputs= [input_],outputs=[output])"
      ],
      "metadata": {
        "id": "WyFM3Q0E2h9k"
      },
      "execution_count": 77,
      "outputs": []
    },
    {
      "cell_type": "code",
      "source": [
        "model.summary()"
      ],
      "metadata": {
        "colab": {
          "base_uri": "https://localhost:8080/"
        },
        "id": "UyhZwOAk5En9",
        "outputId": "403362b9-62c6-4408-88a6-bda79e0c9b20"
      },
      "execution_count": 78,
      "outputs": [
        {
          "output_type": "stream",
          "name": "stdout",
          "text": [
            "Model: \"model\"\n",
            "__________________________________________________________________________________________________\n",
            " Layer (type)                Output Shape                 Param #   Connected to                  \n",
            "==================================================================================================\n",
            " input_1 (InputLayer)        [(None, 8)]                  0         []                            \n",
            "                                                                                                  \n",
            " dense (Dense)               (None, 30)                   270       ['input_1[0][0]']             \n",
            "                                                                                                  \n",
            " dense_1 (Dense)             (None, 30)                   930       ['dense[0][0]']               \n",
            "                                                                                                  \n",
            " concatenate (Concatenate)   (None, 38)                   0         ['input_1[0][0]',             \n",
            "                                                                     'dense_1[0][0]']             \n",
            "                                                                                                  \n",
            " dense_2 (Dense)             (None, 1)                    39        ['concatenate[0][0]']         \n",
            "                                                                                                  \n",
            "==================================================================================================\n",
            "Total params: 1239 (4.84 KB)\n",
            "Trainable params: 1239 (4.84 KB)\n",
            "Non-trainable params: 0 (0.00 Byte)\n",
            "__________________________________________________________________________________________________\n"
          ]
        }
      ]
    },
    {
      "cell_type": "code",
      "source": [
        "model.compile(loss= 'mean_squared_error',\n",
        "            optimizer = keras.optimizers.SGD(learning_rate=1e-3),\n",
        "              metrics= ['mae'])"
      ],
      "metadata": {
        "id": "noBRxrIO5oQD"
      },
      "execution_count": 85,
      "outputs": []
    },
    {
      "cell_type": "code",
      "source": [
        "model_history= model.fit(X_train,y_train, epochs=40, validation_data=(X_valid, y_valid))"
      ],
      "metadata": {
        "colab": {
          "base_uri": "https://localhost:8080/"
        },
        "id": "hyZdj2He9vjr",
        "outputId": "cef6e475-2952-485c-add3-8af42624c988"
      },
      "execution_count": 89,
      "outputs": [
        {
          "output_type": "stream",
          "name": "stdout",
          "text": [
            "Epoch 1/40\n",
            "363/363 [==============================] - 2s 4ms/step - loss: 0.3803 - mae: 0.4401 - val_loss: 0.3899 - val_mae: 0.4322\n",
            "Epoch 2/40\n",
            "363/363 [==============================] - 1s 3ms/step - loss: 0.3791 - mae: 0.4390 - val_loss: 0.4134 - val_mae: 0.4366\n",
            "Epoch 3/40\n",
            "363/363 [==============================] - 1s 3ms/step - loss: 0.3777 - mae: 0.4389 - val_loss: 0.4105 - val_mae: 0.4326\n",
            "Epoch 4/40\n",
            "363/363 [==============================] - 1s 3ms/step - loss: 0.3762 - mae: 0.4375 - val_loss: 0.3925 - val_mae: 0.4338\n",
            "Epoch 5/40\n",
            "363/363 [==============================] - 1s 2ms/step - loss: 0.3754 - mae: 0.4370 - val_loss: 0.3759 - val_mae: 0.4300\n",
            "Epoch 6/40\n",
            "363/363 [==============================] - 1s 3ms/step - loss: 0.3737 - mae: 0.4362 - val_loss: 0.3961 - val_mae: 0.4300\n",
            "Epoch 7/40\n",
            "363/363 [==============================] - 1s 2ms/step - loss: 0.3731 - mae: 0.4353 - val_loss: 0.3866 - val_mae: 0.4297\n",
            "Epoch 8/40\n",
            "363/363 [==============================] - 1s 3ms/step - loss: 0.3720 - mae: 0.4349 - val_loss: 0.3709 - val_mae: 0.4271\n",
            "Epoch 9/40\n",
            "363/363 [==============================] - 1s 2ms/step - loss: 0.3709 - mae: 0.4344 - val_loss: 0.3836 - val_mae: 0.4269\n",
            "Epoch 10/40\n",
            "363/363 [==============================] - 1s 3ms/step - loss: 0.3698 - mae: 0.4335 - val_loss: 0.3992 - val_mae: 0.4270\n",
            "Epoch 11/40\n",
            "363/363 [==============================] - 1s 3ms/step - loss: 0.3692 - mae: 0.4327 - val_loss: 0.3694 - val_mae: 0.4258\n",
            "Epoch 12/40\n",
            "363/363 [==============================] - 1s 3ms/step - loss: 0.3681 - mae: 0.4319 - val_loss: 0.3969 - val_mae: 0.4273\n",
            "Epoch 13/40\n",
            "363/363 [==============================] - 1s 3ms/step - loss: 0.3673 - mae: 0.4318 - val_loss: 0.3925 - val_mae: 0.4282\n",
            "Epoch 14/40\n",
            "363/363 [==============================] - 1s 3ms/step - loss: 0.3665 - mae: 0.4308 - val_loss: 0.3692 - val_mae: 0.4251\n",
            "Epoch 15/40\n",
            "363/363 [==============================] - 1s 3ms/step - loss: 0.3656 - mae: 0.4304 - val_loss: 0.3756 - val_mae: 0.4254\n",
            "Epoch 16/40\n",
            "363/363 [==============================] - 1s 2ms/step - loss: 0.3648 - mae: 0.4304 - val_loss: 0.3693 - val_mae: 0.4237\n",
            "Epoch 17/40\n",
            "363/363 [==============================] - 1s 3ms/step - loss: 0.3641 - mae: 0.4295 - val_loss: 0.3774 - val_mae: 0.4235\n",
            "Epoch 18/40\n",
            "363/363 [==============================] - 1s 3ms/step - loss: 0.3636 - mae: 0.4291 - val_loss: 0.3726 - val_mae: 0.4218\n",
            "Epoch 19/40\n",
            "363/363 [==============================] - 1s 3ms/step - loss: 0.3626 - mae: 0.4283 - val_loss: 0.3728 - val_mae: 0.4223\n",
            "Epoch 20/40\n",
            "363/363 [==============================] - 1s 3ms/step - loss: 0.3620 - mae: 0.4278 - val_loss: 0.3925 - val_mae: 0.4250\n",
            "Epoch 21/40\n",
            "363/363 [==============================] - 1s 3ms/step - loss: 0.3611 - mae: 0.4274 - val_loss: 0.3784 - val_mae: 0.4245\n",
            "Epoch 22/40\n",
            "363/363 [==============================] - 1s 2ms/step - loss: 0.3604 - mae: 0.4270 - val_loss: 0.3862 - val_mae: 0.4246\n",
            "Epoch 23/40\n",
            "363/363 [==============================] - 1s 2ms/step - loss: 0.3597 - mae: 0.4268 - val_loss: 0.3548 - val_mae: 0.4178\n",
            "Epoch 24/40\n",
            "363/363 [==============================] - 1s 2ms/step - loss: 0.3589 - mae: 0.4254 - val_loss: 0.3659 - val_mae: 0.4200\n",
            "Epoch 25/40\n",
            "363/363 [==============================] - 1s 2ms/step - loss: 0.3582 - mae: 0.4256 - val_loss: 0.3822 - val_mae: 0.4216\n",
            "Epoch 26/40\n",
            "363/363 [==============================] - 1s 3ms/step - loss: 0.3576 - mae: 0.4250 - val_loss: 0.3774 - val_mae: 0.4207\n",
            "Epoch 27/40\n",
            "363/363 [==============================] - 1s 3ms/step - loss: 0.3573 - mae: 0.4247 - val_loss: 0.3536 - val_mae: 0.4184\n",
            "Epoch 28/40\n",
            "363/363 [==============================] - 1s 3ms/step - loss: 0.3565 - mae: 0.4240 - val_loss: 0.3623 - val_mae: 0.4205\n",
            "Epoch 29/40\n",
            "363/363 [==============================] - 1s 3ms/step - loss: 0.3560 - mae: 0.4237 - val_loss: 0.3616 - val_mae: 0.4198\n",
            "Epoch 30/40\n",
            "363/363 [==============================] - 1s 3ms/step - loss: 0.3552 - mae: 0.4233 - val_loss: 0.3761 - val_mae: 0.4190\n",
            "Epoch 31/40\n",
            "363/363 [==============================] - 1s 3ms/step - loss: 0.3545 - mae: 0.4226 - val_loss: 0.3634 - val_mae: 0.4177\n",
            "Epoch 32/40\n",
            "363/363 [==============================] - 1s 2ms/step - loss: 0.3541 - mae: 0.4222 - val_loss: 0.3739 - val_mae: 0.4215\n",
            "Epoch 33/40\n",
            "363/363 [==============================] - 1s 3ms/step - loss: 0.3539 - mae: 0.4224 - val_loss: 0.3590 - val_mae: 0.4185\n",
            "Epoch 34/40\n",
            "363/363 [==============================] - 1s 2ms/step - loss: 0.3531 - mae: 0.4216 - val_loss: 0.3515 - val_mae: 0.4173\n",
            "Epoch 35/40\n",
            "363/363 [==============================] - 1s 3ms/step - loss: 0.3528 - mae: 0.4215 - val_loss: 0.3728 - val_mae: 0.4203\n",
            "Epoch 36/40\n",
            "363/363 [==============================] - 1s 2ms/step - loss: 0.3523 - mae: 0.4213 - val_loss: 0.3495 - val_mae: 0.4154\n",
            "Epoch 37/40\n",
            "363/363 [==============================] - 1s 3ms/step - loss: 0.3520 - mae: 0.4206 - val_loss: 0.3579 - val_mae: 0.4174\n",
            "Epoch 38/40\n",
            "363/363 [==============================] - 1s 3ms/step - loss: 0.3515 - mae: 0.4208 - val_loss: 0.3514 - val_mae: 0.4154\n",
            "Epoch 39/40\n",
            "363/363 [==============================] - 1s 3ms/step - loss: 0.3510 - mae: 0.4204 - val_loss: 0.3555 - val_mae: 0.4158\n",
            "Epoch 40/40\n",
            "363/363 [==============================] - 1s 3ms/step - loss: 0.3504 - mae: 0.4201 - val_loss: 0.3649 - val_mae: 0.4149\n"
          ]
        }
      ]
    },
    {
      "cell_type": "code",
      "source": [
        "model_history.history"
      ],
      "metadata": {
        "colab": {
          "base_uri": "https://localhost:8080/"
        },
        "id": "9uaU0trB-I9r",
        "outputId": "ea4032f4-a60b-4799-fbbf-034e59a79a7a"
      },
      "execution_count": 90,
      "outputs": [
        {
          "output_type": "execute_result",
          "data": {
            "text/plain": [
              "{'loss': [0.3802521526813507,\n",
              "  0.3791046738624573,\n",
              "  0.37774771451950073,\n",
              "  0.3761803209781647,\n",
              "  0.37544727325439453,\n",
              "  0.37371617555618286,\n",
              "  0.373129278421402,\n",
              "  0.3720165491104126,\n",
              "  0.37087929248809814,\n",
              "  0.36981722712516785,\n",
              "  0.36920586228370667,\n",
              "  0.3680713176727295,\n",
              "  0.3672545254230499,\n",
              "  0.3664596676826477,\n",
              "  0.3656136989593506,\n",
              "  0.3647648096084595,\n",
              "  0.3640874922275543,\n",
              "  0.36359700560569763,\n",
              "  0.36263272166252136,\n",
              "  0.3619610369205475,\n",
              "  0.3611118793487549,\n",
              "  0.3604487478733063,\n",
              "  0.35969850420951843,\n",
              "  0.35894307494163513,\n",
              "  0.3581973910331726,\n",
              "  0.35757696628570557,\n",
              "  0.3573461174964905,\n",
              "  0.3565399944782257,\n",
              "  0.35604676604270935,\n",
              "  0.355248361825943,\n",
              "  0.35451602935791016,\n",
              "  0.3540569543838501,\n",
              "  0.3538733124732971,\n",
              "  0.35314884781837463,\n",
              "  0.3527648448944092,\n",
              "  0.35234031081199646,\n",
              "  0.35195571184158325,\n",
              "  0.35145896673202515,\n",
              "  0.3509875237941742,\n",
              "  0.3503880202770233],\n",
              " 'mae': [0.4401235580444336,\n",
              "  0.43903836607933044,\n",
              "  0.4388572573661804,\n",
              "  0.43754294514656067,\n",
              "  0.4369911551475525,\n",
              "  0.436161071062088,\n",
              "  0.435320109128952,\n",
              "  0.43489885330200195,\n",
              "  0.4343608617782593,\n",
              "  0.4335079491138458,\n",
              "  0.4326939880847931,\n",
              "  0.4319370985031128,\n",
              "  0.43178248405456543,\n",
              "  0.4308190941810608,\n",
              "  0.4304317831993103,\n",
              "  0.4304225742816925,\n",
              "  0.42948517203330994,\n",
              "  0.4291161596775055,\n",
              "  0.42832469940185547,\n",
              "  0.4277699887752533,\n",
              "  0.42736515402793884,\n",
              "  0.4269924461841583,\n",
              "  0.4267807900905609,\n",
              "  0.42538267374038696,\n",
              "  0.4256039261817932,\n",
              "  0.4249841570854187,\n",
              "  0.4246797263622284,\n",
              "  0.42395710945129395,\n",
              "  0.42369145154953003,\n",
              "  0.42330434918403625,\n",
              "  0.42264580726623535,\n",
              "  0.4222089648246765,\n",
              "  0.4224378764629364,\n",
              "  0.42162182927131653,\n",
              "  0.4214899241924286,\n",
              "  0.4212873876094818,\n",
              "  0.4206427335739136,\n",
              "  0.42084363102912903,\n",
              "  0.420392245054245,\n",
              "  0.420052707195282],\n",
              " 'val_loss': [0.3898946940898895,\n",
              "  0.41338056325912476,\n",
              "  0.41047242283821106,\n",
              "  0.39251601696014404,\n",
              "  0.3759402930736542,\n",
              "  0.39612799882888794,\n",
              "  0.3866177499294281,\n",
              "  0.37086814641952515,\n",
              "  0.38364744186401367,\n",
              "  0.3992113769054413,\n",
              "  0.36942246556282043,\n",
              "  0.3969375789165497,\n",
              "  0.3925066888332367,\n",
              "  0.3692072927951813,\n",
              "  0.3755798041820526,\n",
              "  0.36932793259620667,\n",
              "  0.37741759419441223,\n",
              "  0.37255823612213135,\n",
              "  0.37277522683143616,\n",
              "  0.3924542963504791,\n",
              "  0.37836772203445435,\n",
              "  0.38620835542678833,\n",
              "  0.3548310697078705,\n",
              "  0.3658876121044159,\n",
              "  0.3822261095046997,\n",
              "  0.3774026036262512,\n",
              "  0.3536280393600464,\n",
              "  0.3623148202896118,\n",
              "  0.3616143763065338,\n",
              "  0.37606605887413025,\n",
              "  0.36342501640319824,\n",
              "  0.3739014267921448,\n",
              "  0.3589630424976349,\n",
              "  0.351532906293869,\n",
              "  0.3728054463863373,\n",
              "  0.3494664132595062,\n",
              "  0.35785481333732605,\n",
              "  0.3513714373111725,\n",
              "  0.3554551303386688,\n",
              "  0.3648794889450073],\n",
              " 'val_mae': [0.4321771562099457,\n",
              "  0.43660685420036316,\n",
              "  0.43262478709220886,\n",
              "  0.43375682830810547,\n",
              "  0.4300088882446289,\n",
              "  0.42999106645584106,\n",
              "  0.42970189452171326,\n",
              "  0.4270506799221039,\n",
              "  0.4269058406352997,\n",
              "  0.4270499646663666,\n",
              "  0.42583590745925903,\n",
              "  0.42734432220458984,\n",
              "  0.42823493480682373,\n",
              "  0.425119012594223,\n",
              "  0.4253838062286377,\n",
              "  0.4237480163574219,\n",
              "  0.42346224188804626,\n",
              "  0.42179930210113525,\n",
              "  0.42233806848526,\n",
              "  0.42501193284988403,\n",
              "  0.42450636625289917,\n",
              "  0.4246487021446228,\n",
              "  0.41780856251716614,\n",
              "  0.42001762986183167,\n",
              "  0.42159146070480347,\n",
              "  0.4206995368003845,\n",
              "  0.41836127638816833,\n",
              "  0.42046910524368286,\n",
              "  0.41984134912490845,\n",
              "  0.4190370738506317,\n",
              "  0.41774696111679077,\n",
              "  0.42151203751564026,\n",
              "  0.4185357987880707,\n",
              "  0.41733378171920776,\n",
              "  0.4203251898288727,\n",
              "  0.4153566360473633,\n",
              "  0.4174445867538452,\n",
              "  0.41544413566589355,\n",
              "  0.4157743752002716,\n",
              "  0.41485652327537537]}"
            ]
          },
          "metadata": {},
          "execution_count": 90
        }
      ]
    },
    {
      "cell_type": "code",
      "source": [
        "pd.DataFrame(model_history.history).plot(figsize= (8,5))\n",
        "plt.grid(True)\n",
        "plt.gca().set_ylim(0,1)\n",
        "plt.show()"
      ],
      "metadata": {
        "colab": {
          "base_uri": "https://localhost:8080/",
          "height": 451
        },
        "id": "ETyuCk-_IB1R",
        "outputId": "af73b812-6e74-416b-e534-6f2c6c012b0b"
      },
      "execution_count": 91,
      "outputs": [
        {
          "output_type": "display_data",
          "data": {
            "text/plain": [
              "<Figure size 800x500 with 1 Axes>"
            ],
            "image/png": "[encoded data removed]"
          },
          "metadata": {}
        }
      ]
    },
    {
      "cell_type": "code",
      "source": [],
      "metadata": {
        "id": "L6Oz4rzPI39C"
      },
      "execution_count": null,
      "outputs": []
    }
  ]
}